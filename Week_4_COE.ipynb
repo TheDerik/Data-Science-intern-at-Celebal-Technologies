{
  "nbformat": 4,
  "nbformat_minor": 0,
  "metadata": {
    "colab": {
      "provenance": [],
      "include_colab_link": true
    },
    "kernelspec": {
      "name": "python3",
      "display_name": "Python 3"
    },
    "language_info": {
      "name": "python"
    }
  },
  "cells": [
    {
      "cell_type": "markdown",
      "metadata": {
        "id": "view-in-github",
        "colab_type": "text"
      },
      "source": [
        "<a href=\"https://colab.research.google.com/github/TheDerik/Data-Science-intern-at-Celebal-Technologies/blob/main/Week_4_COE.ipynb\" target=\"_parent\"><img src=\"https://colab.research.google.com/assets/colab-badge.svg\" alt=\"Open In Colab\"/></a>"
      ]
    },
    {
      "cell_type": "markdown",
      "source": [
        "# **Apply Bayes Theorem**"
      ],
      "metadata": {
        "id": "f_i1TKzoA76V"
      }
    },
    {
      "cell_type": "code",
      "execution_count": 1,
      "metadata": {
        "colab": {
          "base_uri": "https://localhost:8080/"
        },
        "id": "6YhQ-bz56kdQ",
        "outputId": "cbd88d18-e80a-43ce-a132-64898cab8c8d"
      },
      "outputs": [
        {
          "output_type": "stream",
          "name": "stdout",
          "text": [
            "Probability of having the disease given a positive test result: 0.1610\n"
          ]
        }
      ],
      "source": [
        "P_D = 0.01\n",
        "P_not_D = 1 - P_D\n",
        "P_T_given_D = 0.95\n",
        "P_T_given_not_D = 0.05\n",
        "P_T = (P_T_given_D * P_D) + (P_T_given_not_D * P_not_D)\n",
        "P_D_given_T = (P_T_given_D * P_D) / P_T\n",
        "\n",
        "print(f\"Probability of having the disease given a positive test result: {P_D_given_T:.4f}\")"
      ]
    },
    {
      "cell_type": "code",
      "source": [
        "import numpy as np\n",
        "\n",
        "# 3x3 matrix\n",
        "A = np.array([[4, -2, 1],\n",
        "              [1, 1, 2],\n",
        "              [1, -2, 0]])\n",
        "\n",
        "# Calculating eigenvalues and eigenvectors\n",
        "eigenvalues, eigenvectors = np.linalg.eig(A)\n",
        "\n",
        "print(\"Eigenvalues:\")\n",
        "print(eigenvalues)\n",
        "\n",
        "print(\"Eigenvectors:\")\n",
        "print(eigenvectors)\n"
      ],
      "metadata": {
        "colab": {
          "base_uri": "https://localhost:8080/"
        },
        "id": "QFNZkT4L6paX",
        "outputId": "d0fbe2d2-8d5a-4b44-e8ac-9e791b3bbe54"
      },
      "execution_count": 2,
      "outputs": [
        {
          "output_type": "stream",
          "name": "stdout",
          "text": [
            "Eigenvalues:\n",
            "[3.+0.j         1.+1.41421356j 1.-1.41421356j]\n",
            "Eigenvectors:\n",
            "[[-8.94427191e-01+0.j          5.02955691e-01+0.08891084j\n",
            "   5.02955691e-01-0.08891084j]\n",
            " [-4.47213595e-01+0.j          6.91564075e-01+0.j\n",
            "   6.91564075e-01-0.j        ]\n",
            " [-2.84021877e-16+0.j         -2.51477845e-01+0.44455422j\n",
            "  -2.51477845e-01-0.44455422j]]\n"
          ]
        }
      ]
    },
    {
      "cell_type": "code",
      "source": [
        "# Calculating the Determinant of a 3x3 Matrix and Find Its Inverse if Possible\n",
        "B = np.array([[2, -1, 0],\n",
        "              [1, 3, -2],\n",
        "              [0, -1, 1]])\n",
        "\n",
        "det_B = np.linalg.det(B)\n",
        "\n",
        "print(f\"Determinant of B: {det_B:.4f}\")\n",
        "\n",
        "if det_B != 0:\n",
        "    # Calculate inverse\n",
        "    inv_B = np.linalg.inv(B)\n",
        "    print(\"Inverse of B:\")\n",
        "    print(inv_B)\n",
        "else:\n",
        "    print(\"Matrix B is not invertible.\")"
      ],
      "metadata": {
        "colab": {
          "base_uri": "https://localhost:8080/"
        },
        "id": "3oKvjjNZ6wV5",
        "outputId": "f2ed946c-89ed-4fdb-9dc8-76694c591ac6"
      },
      "execution_count": 4,
      "outputs": [
        {
          "output_type": "stream",
          "name": "stdout",
          "text": [
            "Determinant of B: 3.0000\n",
            "Inverse of B:\n",
            "[[ 0.33333333  0.33333333  0.66666667]\n",
            " [-0.33333333  0.66666667  1.33333333]\n",
            " [-0.33333333  0.66666667  2.33333333]]\n"
          ]
        }
      ]
    },
    {
      "cell_type": "code",
      "source": [
        "import scipy.stats as stats\n",
        "\n",
        "# Mean and standard deviation\n",
        "mu = 0\n",
        "sigma = 1\n",
        "\n",
        "# Defining the Normal distribution\n",
        "normal_dist = stats.norm(mu, sigma)\n",
        "\n",
        "# Calculating probability of a value less than or equal to a certain point\n",
        "x = 1.96\n",
        "probability = normal_dist.cdf(x)\n",
        "\n",
        "print(f\"Probability of a value less than or equal to {x}: {probability:.4f}\")\n",
        "\n",
        "# Calculating the probability within a range\n",
        "x1, x2 = -1.96, 1.96\n",
        "probability_range = normal_dist.cdf(x2) - normal_dist.cdf(x1)\n",
        "\n",
        "print(f\"Probability of a value between {x1} and {x2}: {probability_range:.4f}\")\n"
      ],
      "metadata": {
        "colab": {
          "base_uri": "https://localhost:8080/"
        },
        "id": "3eNuI9Pj68J7",
        "outputId": "7c02f87f-f25b-44e3-f1af-a01b6817f8dc"
      },
      "execution_count": 5,
      "outputs": [
        {
          "output_type": "stream",
          "name": "stdout",
          "text": [
            "Probability of a value less than or equal to 1.96: 0.9750\n",
            "Probability of a value between -1.96 and 1.96: 0.9500\n"
          ]
        }
      ]
    }
  ]
}